{
 "cells": [
  {
   "cell_type": "code",
   "execution_count": 4,
   "metadata": {},
   "outputs": [],
   "source": [
    "import pandas as pd\n",
    "\n",
    "csv = pd.read_csv(\"dataset.csv\")\n",
    "\n",
    "genres = csv['Genre'].unique()\n",
    "\n",
    "df = csv.groupby('Genre')\n",
    "\n",
    "for genre in genres:\n",
    "  df2 = df.get_group(genre)\n",
    "  df3 = df2.sort_values(by = 'Year', axis=0, ascending=True).reset_index(drop=True)\n",
    "  df3.to_csv(f'{genre}.csv')"
   ]
  }
 ],
 "metadata": {
  "interpreter": {
   "hash": "aecd030d4c8316a52bf122072e28f84bcc79844c2684e041fef2e3f1d9f59078"
  },
  "kernelspec": {
   "display_name": "Python 3.10.0 64-bit",
   "language": "python",
   "name": "python3"
  },
  "language_info": {
   "codemirror_mode": {
    "name": "ipython",
    "version": 3
   },
   "file_extension": ".py",
   "mimetype": "text/x-python",
   "name": "python",
   "nbconvert_exporter": "python",
   "pygments_lexer": "ipython3",
   "version": "3.10.0"
  },
  "orig_nbformat": 4
 },
 "nbformat": 4,
 "nbformat_minor": 2
}
