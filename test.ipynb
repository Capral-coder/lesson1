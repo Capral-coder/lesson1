{
 "cells": [
  {
   "cell_type": "code",
   "execution_count": 1,
   "metadata": {},
   "outputs": [
    {
     "name": "stdout",
     "output_type": "stream",
     "text": [
      "   x_1 y_1  z_left x_2 y_2  z_right\n",
      "0    A   D      19   A   D       15\n",
      "1    A   D      19   A   D        5\n",
      "2    A   D      18   A   D       15\n",
      "3    A   D      18   A   D        5\n",
      "4    A   D       2   A   D       15\n",
      "5    A   D       2   A   D        5\n",
      "6    B   E       4   B   E       13\n",
      "7    B   E       4   B   E        4\n",
      "8    B   E       5   B   E       13\n",
      "9    B   E       5   B   E        4\n",
      "10   B   E      14   B   E       13\n",
      "11   B   E      14   B   E        4 \n",
      "\n",
      "   x_1 y_1  z_left x_2 y_2  z_right  z_avg\n",
      "0    A   D    19.0   A   D     15.0   34.0\n",
      "1    A   D    19.0   A   D      5.0   24.0\n",
      "2    A   D    18.0   A   D     15.0   33.0\n",
      "3    A   D    18.0   A   D      5.0   23.0\n",
      "4    A   D     2.0   A   D     15.0   17.0\n",
      "5    A   D     2.0   A   D      5.0    7.0\n",
      "6    B   E     4.0   B   E     13.0   17.0\n",
      "7    B   E     4.0   B   E      4.0    8.0\n",
      "8    B   E     5.0   B   E     13.0   18.0\n",
      "9    B   E     5.0   B   E      4.0    9.0\n",
      "10   B   E    14.0   B   E     13.0   27.0\n",
      "11   B   E    14.0   B   E      4.0   18.0\n",
      "12   C   F    15.0   0   0      0.0   15.0\n",
      "13   C   F    12.0   0   0      0.0   12.0\n",
      "14   C   F    11.0   0   0      0.0   11.0\n",
      "15   0   0     0.0   C   D      4.0    4.0\n",
      "16   0   0     0.0   C   D      3.0    3.0\n",
      "17   0   0     0.0   A   E      1.0    1.0\n",
      "18   0   0     0.0   A   E      4.0    4.0\n",
      "19   0   0     0.0   B   D      9.0    9.0\n",
      "20   0   0     0.0   B   D      6.0    6.0\n",
      "21   0   0     0.0   C   E     12.0   12.0\n",
      "22   0   0     0.0   C   E     16.0   16.0 \n",
      "\n"
     ]
    }
   ],
   "source": [
    "import numpy as np\n",
    "import pandas as pd\n",
    "\n",
    "\n",
    "df1 = pd.DataFrame({'x_1': ['A', 'B', 'C'] * 3,\n",
    "                    'y_1': ['D', 'E', 'F'] * 3,\n",
    "                    'z': np.random.randint(0, 20, 9)})\n",
    "\n",
    "df2 = pd.DataFrame({'x_2': ['A', 'B', 'C'] * 4,\n",
    "                    'y_2': ['D', 'E'] * 6,\n",
    "                    'z': np.random.randint(0, 20, 12)})\n",
    "\n",
    "df3 = pd.merge(df1, df2, \n",
    "                how='inner',\n",
    "                left_on=['x_1', 'y_1'],\n",
    "                right_on=['x_2', 'y_2'],\n",
    "                suffixes=['_left', '_right'])\n",
    "\n",
    "df4=pd.merge(df1, df2, \n",
    "                how='outer',\n",
    "                left_on=['x_1', 'y_1'],\n",
    "                right_on=['x_2', 'y_2'],\n",
    "                suffixes=['_left', '_right']).replace(np.nan, 0)\n",
    "\n",
    "z_left=np.array([])\n",
    "z_right=np.array([])\n",
    "\n",
    "\n",
    "for data in df4['z_left']:\n",
    "  z_left = np.append(z_left, data)\n",
    "\n",
    "\n",
    "for data in df4['z_right']:\n",
    "  z_right = np.append(z_right, data)\n",
    "\n",
    "z_avg = z_left + z_right\n",
    "\n",
    "df4['z_avg'] = z_avg\n",
    "print(df3, '\\n')\n",
    "print(df4, '\\n')"
   ]
  }
 ],
 "metadata": {
  "interpreter": {
   "hash": "aecd030d4c8316a52bf122072e28f84bcc79844c2684e041fef2e3f1d9f59078"
  },
  "kernelspec": {
   "display_name": "Python 3.10.0 64-bit",
   "language": "python",
   "name": "python3"
  },
  "language_info": {
   "codemirror_mode": {
    "name": "ipython",
    "version": 3
   },
   "file_extension": ".py",
   "mimetype": "text/x-python",
   "name": "python",
   "nbconvert_exporter": "python",
   "pygments_lexer": "ipython3",
   "version": "3.10.0"
  },
  "orig_nbformat": 4
 },
 "nbformat": 4,
 "nbformat_minor": 2
}
